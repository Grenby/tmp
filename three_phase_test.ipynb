{
 "cells": [
  {
   "cell_type": "code",
   "execution_count": 1,
   "id": "initial_id",
   "metadata": {
    "collapsed": true,
    "ExecuteTime": {
     "end_time": "2024-07-21T19:28:26.731579Z",
     "start_time": "2024-07-21T19:28:25.501694Z"
    }
   },
   "outputs": [],
   "source": [
    "\n",
    "\n",
    "import networkx as nx\n",
    "import osmnx as ox\n",
    "from tqdm import tqdm\n",
    "\n",
    "# import matplotlib.pyplot as plt\n",
    "import city_tests\n",
    "import graph_generator\n"
   ]
  },
  {
   "cell_type": "code",
   "outputs": [],
   "source": [
    "def get_graph(city_id: str = 'R2555133') -> nx.Graph:\n",
    "    gdf = ox.geocode_to_gdf(city_id, by_osmid=True)\n",
    "    polygon_boundary = gdf.unary_union\n",
    "    graph = ox.graph_from_polygon(polygon_boundary,\n",
    "                                  network_type='drive',\n",
    "                                  simplify=True)\n",
    "    G = nx.Graph(graph)\n",
    "    H = nx.Graph()\n",
    "    # Добавляем рёбра в новый граф, копируя только веса\n",
    "    for u, d in G.nodes(data=True):\n",
    "        H.add_node(u, x=d['x'], y=d['y'])\n",
    "    for u, v, d in G.edges(data=True):\n",
    "        H.add_edge(u, v, length=d['length'])\n",
    "    del city_id, gdf, polygon_boundary, graph, G\n",
    "    return H\n"
   ],
   "metadata": {
    "collapsed": false,
    "ExecuteTime": {
     "end_time": "2024-07-21T19:28:26.740005Z",
     "start_time": "2024-07-21T19:28:26.734295Z"
    }
   },
   "id": "8cb91f902795715",
   "execution_count": 2
  },
  {
   "cell_type": "code",
   "outputs": [],
   "source": [
    "def test_graph(graph: nx.Graph, name: str, city_id: str, points: list[tuple[int, int]] = None,\n",
    "               resolutions: list[float] = None, pos=2, logs=True, alg='dijkstra') -> CityResult:\n",
    "    max_alpha = 1 if resolutions is None else max(resolutions)\n",
    "    delta = max_alpha / 40\n",
    "    if resolutions is None:\n",
    "        resolutions = []\n",
    "        resolutions += [i / 10 for i in range(1, 10, 1)]\n",
    "        resolutions += [i for i in range(1, 10, 1)]\n",
    "        resolutions += [i for i in range(10, 50, 2)]\n",
    "        resolutions += [i for i in range(50, 100, 5)]\n",
    "        resolutions += [i for i in range(100, 500, 10)]\n",
    "        resolutions += [i for i in range(500, 1000, 50)]\n",
    "        resolutions += [i for i in range(1000, 5000, 200)]\n",
    "    if points is None:\n",
    "        N: int = 1000\n",
    "        points = [get_node_for_initial_graph_v2(graph) for _ in trange(N, desc='generate points')]\n",
    "    else:\n",
    "        N = len(points)\n",
    "\n",
    "    has_coords = 'x' in [d for u, d in graph.nodes(data=True)][0]\n",
    "\n",
    "    usual_results = get_usual_result(graph, points, alg=alg)\n",
    "\n",
    "    data = {\n",
    "        \n",
    "    }\n",
    "\n",
    "    alphas = set()\n",
    "    for r in resolutions:\n",
    "        start = time.time()\n",
    "        community = graph_generator.resolve_communities(graph, r)\n",
    "        # print(len(community) / len(graph.nodes))\n",
    "        if len(community) < 5:\n",
    "            continue\n",
    "        a = len(community) / len(graph.nodes)\n",
    "        has = False\n",
    "        for curr in alphas:\n",
    "            if abs(curr - a) < delta:\n",
    "                has = True\n",
    "                break\n",
    "        if has or a > max_alpha:\n",
    "            if logs:\n",
    "                tqdm.write(f'alpha: {a} -- skip')\n",
    "            if a == 1 and 1 in alphas or a > max_alpha:\n",
    "                break\n",
    "            else:\n",
    "                continue\n",
    "        alphas.add(a)\n",
    "        layer, build_communities, build_additional, build_centroid_graph = generate_layer(graph, r,\n",
    "                                                                                          has_coordinates=has_coords,\n",
    "                                                                                          communities=community)\n",
    "        tmp = test_layer(points, layer, alg=alg)\n",
    "        total = time.time() - start\n",
    "        text = \"\"\"\n",
    "                name:           {}\n",
    "                alpha:          {:4f}\n",
    "                total time:     {:.3f}\n",
    "                prepare time:   {:.3f} \n",
    "                    build_communities:      {:.3f}\n",
    "                    build_additional:       {:.3f}\n",
    "                    build_centroid_graph:   {:.3f}\n",
    "                pfa time:       {:.3f}\n",
    "            \"\"\".format(name, a, total, total - tmp[0], build_communities, build_additional, build_centroid_graph,\n",
    "                       tmp[0])\n",
    "        if logs:\n",
    "            tqdm.write(text)\n",
    "        result.points_results.append(generate_result(usual_results, tmp, r, layer))\n",
    "\n",
    "\n",
    "    result.save()\n",
    "    if logs:\n",
    "        s = [p.speed_up[0] for p in result.points_results]\n",
    "        indx = np.argmax(s)\n",
    "        max_s = s[indx]\n",
    "        print(alg + ' usual time:', result.points_results[indx].absolute_time[0] * max_s)\n",
    "        print(alg + ' hpfa time:', result.points_results[indx].absolute_time[0])\n",
    "        print(alg + ' max_speedUp:', max(s))\n",
    "        print(alg + ' mean_err:', np.mean(result.points_results[np.argmax(s)].errors),\n",
    "              np.std(result.points_results[0].errors))\n",
    "        print(alg + ' max_err:', np.max(result.points_results[np.argmax(s)].errors))\n",
    "    return result\n"
   ],
   "metadata": {
    "collapsed": false
   },
   "id": "cd64280de2a9fe99"
  },
  {
   "cell_type": "code",
   "outputs": [],
   "source": [
    "def calculate(data):\n",
    "    cities = data[0]\n",
    "    points_number = data[1]\n",
    "    NUMBER = data[2]\n",
    "    THREADS = data[3]\n",
    "\n",
    "    for name, id in tqdm(cities, position=NUMBER):\n",
    "        G = get_graph(id)\n",
    "\n",
    "        points = [graph_generator.get_node_for_initial_graph_v2(G) for _ in\n",
    "                  range(points_number)]\n",
    "\n",
    "        Q = G.copy()\n",
    "        for u in Q.nodes:\n",
    "            if u in Q[u]:\n",
    "                Q.remove_edge(u, u)\n",
    "        test_graph(Q,\n",
    "                              f'{name}',\n",
    "                              id,\n",
    "                              points=points, pos=NUMBER, logs=False)"
   ],
   "metadata": {
    "collapsed": false,
    "ExecuteTime": {
     "end_time": "2024-07-21T19:28:26.752157Z",
     "start_time": "2024-07-21T19:28:26.742140Z"
    }
   },
   "id": "7d5aa048ed0b1ca5",
   "execution_count": 3
  },
  {
   "cell_type": "code",
   "outputs": [
    {
     "name": "stdout",
     "output_type": "stream",
     "text": [
      "2\n"
     ]
    },
    {
     "name": "stderr",
     "output_type": "stream",
     "text": [
      "\n",
      "  0%|          | 0/1 [00:07<?, ?it/s]\u001B[A\n",
      "\n",
      "KeyboardInterrupt\n",
      "\n"
     ]
    }
   ],
   "source": [
    "total = 2\n",
    "points_number = 500\n",
    "\n",
    "cities = {\n",
    "        # 'ASHA': 'R13470549',\n",
    "        # 'KRG': 'R4676636',\n",
    "        # 'EKB': 'R6564910',\n",
    "        # 'BARCELONA': 'R347950',\n",
    "        'PARIS': 'R71525',\n",
    "        # 'Prague': 'R435514',\n",
    "        # 'MSK': 'R2555133',\n",
    "        # 'SBP': 'R337422',\n",
    "        # 'SINGAPORE': 'R17140517',\n",
    "        # 'BERLIN': 'R62422',\n",
    "        # 'ROME': 'R41485',\n",
    "        # 'LA': 'R207359',\n",
    "        # 'DUBAI': 'R4479752',\n",
    "        # 'RIO': 'R2697338',\n",
    "        # 'DELHI': 'R1942586',\n",
    "        # 'KAIR': 'R5466227'\n",
    "}\n",
    "\n",
    "total_len = len(cities)\n",
    "l = list(cities.items())\n",
    "data = [[l[i: total_len: total], points_number, i + 1, total] for i in range(total)]\n",
    "\n",
    "calculate(data[0])"
   ],
   "metadata": {
    "collapsed": false,
    "ExecuteTime": {
     "end_time": "2024-07-21T19:28:34.763411Z",
     "start_time": "2024-07-21T19:28:26.754515Z"
    }
   },
   "id": "15b9cdd5356b7974",
   "execution_count": 4
  }
 ],
 "metadata": {
  "kernelspec": {
   "display_name": "Python 3",
   "language": "python",
   "name": "python3"
  },
  "language_info": {
   "codemirror_mode": {
    "name": "ipython",
    "version": 2
   },
   "file_extension": ".py",
   "mimetype": "text/x-python",
   "name": "python",
   "nbconvert_exporter": "python",
   "pygments_lexer": "ipython2",
   "version": "2.7.6"
  }
 },
 "nbformat": 4,
 "nbformat_minor": 5
}
